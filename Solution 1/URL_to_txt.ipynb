{
 "cells": [
  {
   "cell_type": "code",
   "execution_count": 5,
   "id": "f3c95e89",
   "metadata": {},
   "outputs": [],
   "source": [
    "import urllib.request"
   ]
  },
  {
   "cell_type": "code",
   "execution_count": 6,
   "id": "55611f36",
   "metadata": {},
   "outputs": [],
   "source": [
    "url_1 = 'https://download.bls.gov/pub/time.series/ce/ce.data.90a.Government.Employment'\n",
    "url_2 = 'https://download.bls.gov/pub/time.series/ce/ce.data.00a.TotalNonfarm.Employment'\n",
    "url_3 = 'https://download.bls.gov/pub/time.series/ce/ce.data.05a.TotalPrivate.Employment'"
   ]
  },
  {
   "cell_type": "code",
   "execution_count": 7,
   "id": "d05f3d76",
   "metadata": {},
   "outputs": [],
   "source": [
    "# Create a Request object with the specified headers\n",
    "request = urllib.request.Request(url_1, headers=headers)\n",
    "\n",
    "# Open the URL using urlopen\n",
    "with urllib.request.urlopen(request) as response:\n",
    "    # Read the content of the response\n",
    "    content = response.read()\n",
    "\n",
    "# Save the content to a file\n",
    "with open(\"Government_Employment.txt\", \"wb\") as file:\n",
    "    file.write(content)"
   ]
  },
  {
   "cell_type": "code",
   "execution_count": 8,
   "id": "882313c2",
   "metadata": {},
   "outputs": [],
   "source": [
    "# Create a Request object with the specified headers\n",
    "request = urllib.request.Request(url_2, headers=headers)\n",
    "\n",
    "# Open the URL using urlopen\n",
    "with urllib.request.urlopen(request) as response:\n",
    "    # Read the content of the response\n",
    "    content = response.read()\n",
    "\n",
    "# Save the content to a file\n",
    "with open(\"TotalNonfarm.txt\", \"wb\") as file:\n",
    "    file.write(content)"
   ]
  },
  {
   "cell_type": "code",
   "execution_count": 9,
   "id": "59551afd",
   "metadata": {},
   "outputs": [],
   "source": [
    "# Create a Request object with the specified headers\n",
    "request = urllib.request.Request(url_3, headers=headers)\n",
    "\n",
    "# Open the URL using urlopen\n",
    "with urllib.request.urlopen(request) as response:\n",
    "    # Read the content of the response\n",
    "    content = response.read()\n",
    "\n",
    "# Save the content to a file\n",
    "with open(\"TotalPrivate_Employment.txt\", \"wb\") as file:\n",
    "    file.write(content)"
   ]
  }
 ],
 "metadata": {
  "kernelspec": {
   "display_name": "Python 3 (ipykernel)",
   "language": "python",
   "name": "python3"
  },
  "language_info": {
   "codemirror_mode": {
    "name": "ipython",
    "version": 3
   },
   "file_extension": ".py",
   "mimetype": "text/x-python",
   "name": "python",
   "nbconvert_exporter": "python",
   "pygments_lexer": "ipython3",
   "version": "3.9.18"
  }
 },
 "nbformat": 4,
 "nbformat_minor": 5
}
